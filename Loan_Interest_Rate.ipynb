{
 "cells": [
  {
   "cell_type": "markdown",
   "id": "5ce8915b",
   "metadata": {},
   "source": [
    "Problem Statement : We have been given data for people applying for a loan to a peer-to-peer\n",
    "lending firm. The data contains details of loan application and eventually how much interest rate\n",
    "was offered to people by the platform. Our solution needs to be able to predict the interest rate\n",
    "which will be offered to people , given their application detail as inputs. We need to minimze mean error\n"
   ]
  },
  {
   "cell_type": "code",
   "execution_count": 33,
   "id": "7fc7166a",
   "metadata": {},
   "outputs": [],
   "source": [
    "\n",
    "# import for processing data\n",
    "import pandas as pd \n",
    "import numpy as np\n",
    "\n",
    "\n",
    "# imports for suppressing warnings\n",
    "import warnings\n",
    "warnings.filterwarnings('ignore')\n",
    "\n"
   ]
  },
  {
   "cell_type": "code",
   "execution_count": 34,
   "id": "06dc4338",
   "metadata": {},
   "outputs": [],
   "source": [
    "# We are providing complete path for the file which contains your data\n",
    "# r at the beginning is used to ensure that path is considerd as raw string and\n",
    "# we dont get unicode error because of special characters combined with \\ or /\n",
    "\n",
    "train_file=r'D:\\\\Hackathon\\\\Loan Data\\\\loan_data_train.csv'\n",
    "test_file=r'D:\\\\Hackathon\\\\Loan Data\\\\loan_data_test.csv'\n",
    "\n",
    "\n",
    "ld_train=pd.read_csv(train_file)\n",
    "ld_test=pd.read_csv(test_file)               \n"
   ]
  },
  {
   "cell_type": "code",
   "execution_count": 35,
   "id": "571a2e0d",
   "metadata": {},
   "outputs": [
    {
     "data": {
      "text/html": [
       "<div>\n",
       "<style scoped>\n",
       "    .dataframe tbody tr th:only-of-type {\n",
       "        vertical-align: middle;\n",
       "    }\n",
       "\n",
       "    .dataframe tbody tr th {\n",
       "        vertical-align: top;\n",
       "    }\n",
       "\n",
       "    .dataframe thead th {\n",
       "        text-align: right;\n",
       "    }\n",
       "</style>\n",
       "<table border=\"1\" class=\"dataframe\">\n",
       "  <thead>\n",
       "    <tr style=\"text-align: right;\">\n",
       "      <th></th>\n",
       "      <th>ID</th>\n",
       "      <th>Amount.Requested</th>\n",
       "      <th>Amount.Funded.By.Investors</th>\n",
       "      <th>Interest.Rate</th>\n",
       "      <th>Loan.Length</th>\n",
       "      <th>Loan.Purpose</th>\n",
       "      <th>Debt.To.Income.Ratio</th>\n",
       "      <th>State</th>\n",
       "      <th>Home.Ownership</th>\n",
       "      <th>Monthly.Income</th>\n",
       "      <th>FICO.Range</th>\n",
       "      <th>Open.CREDIT.Lines</th>\n",
       "      <th>Revolving.CREDIT.Balance</th>\n",
       "      <th>Inquiries.in.the.Last.6.Months</th>\n",
       "      <th>Employment.Length</th>\n",
       "    </tr>\n",
       "  </thead>\n",
       "  <tbody>\n",
       "    <tr>\n",
       "      <th>0</th>\n",
       "      <td>79542.0</td>\n",
       "      <td>25000</td>\n",
       "      <td>25000</td>\n",
       "      <td>18.49%</td>\n",
       "      <td>60 months</td>\n",
       "      <td>debt_consolidation</td>\n",
       "      <td>27.56%</td>\n",
       "      <td>VA</td>\n",
       "      <td>MORTGAGE</td>\n",
       "      <td>8606.56</td>\n",
       "      <td>720-724</td>\n",
       "      <td>11</td>\n",
       "      <td>15210</td>\n",
       "      <td>3.0</td>\n",
       "      <td>5 years</td>\n",
       "    </tr>\n",
       "    <tr>\n",
       "      <th>1</th>\n",
       "      <td>75473.0</td>\n",
       "      <td>19750</td>\n",
       "      <td>19750</td>\n",
       "      <td>17.27%</td>\n",
       "      <td>60 months</td>\n",
       "      <td>debt_consolidation</td>\n",
       "      <td>13.39%</td>\n",
       "      <td>NY</td>\n",
       "      <td>MORTGAGE</td>\n",
       "      <td>6737.50</td>\n",
       "      <td>710-714</td>\n",
       "      <td>14</td>\n",
       "      <td>19070</td>\n",
       "      <td>3.0</td>\n",
       "      <td>4 years</td>\n",
       "    </tr>\n",
       "    <tr>\n",
       "      <th>2</th>\n",
       "      <td>67265.0</td>\n",
       "      <td>2100</td>\n",
       "      <td>2100</td>\n",
       "      <td>14.33%</td>\n",
       "      <td>36 months</td>\n",
       "      <td>major_purchase</td>\n",
       "      <td>3.50%</td>\n",
       "      <td>LA</td>\n",
       "      <td>OWN</td>\n",
       "      <td>1000.00</td>\n",
       "      <td>690-694</td>\n",
       "      <td>13</td>\n",
       "      <td>893</td>\n",
       "      <td>1.0</td>\n",
       "      <td>&lt; 1 year</td>\n",
       "    </tr>\n",
       "    <tr>\n",
       "      <th>3</th>\n",
       "      <td>80167.0</td>\n",
       "      <td>28000</td>\n",
       "      <td>28000</td>\n",
       "      <td>16.29%</td>\n",
       "      <td>36 months</td>\n",
       "      <td>credit_card</td>\n",
       "      <td>19.62%</td>\n",
       "      <td>NV</td>\n",
       "      <td>MORTGAGE</td>\n",
       "      <td>7083.33</td>\n",
       "      <td>710-714</td>\n",
       "      <td>12</td>\n",
       "      <td>38194</td>\n",
       "      <td>1.0</td>\n",
       "      <td>10+ years</td>\n",
       "    </tr>\n",
       "    <tr>\n",
       "      <th>4</th>\n",
       "      <td>17240.0</td>\n",
       "      <td>24250</td>\n",
       "      <td>17431.82</td>\n",
       "      <td>12.23%</td>\n",
       "      <td>60 months</td>\n",
       "      <td>credit_card</td>\n",
       "      <td>23.79%</td>\n",
       "      <td>OH</td>\n",
       "      <td>MORTGAGE</td>\n",
       "      <td>5833.33</td>\n",
       "      <td>730-734</td>\n",
       "      <td>6</td>\n",
       "      <td>31061</td>\n",
       "      <td>2.0</td>\n",
       "      <td>10+ years</td>\n",
       "    </tr>\n",
       "  </tbody>\n",
       "</table>\n",
       "</div>"
      ],
      "text/plain": [
       "        ID Amount.Requested Amount.Funded.By.Investors Interest.Rate  \\\n",
       "0  79542.0            25000                      25000        18.49%   \n",
       "1  75473.0            19750                      19750        17.27%   \n",
       "2  67265.0             2100                       2100        14.33%   \n",
       "3  80167.0            28000                      28000        16.29%   \n",
       "4  17240.0            24250                   17431.82        12.23%   \n",
       "\n",
       "  Loan.Length        Loan.Purpose Debt.To.Income.Ratio State Home.Ownership  \\\n",
       "0   60 months  debt_consolidation               27.56%    VA       MORTGAGE   \n",
       "1   60 months  debt_consolidation               13.39%    NY       MORTGAGE   \n",
       "2   36 months      major_purchase                3.50%    LA            OWN   \n",
       "3   36 months         credit_card               19.62%    NV       MORTGAGE   \n",
       "4   60 months         credit_card               23.79%    OH       MORTGAGE   \n",
       "\n",
       "   Monthly.Income FICO.Range Open.CREDIT.Lines Revolving.CREDIT.Balance  \\\n",
       "0         8606.56    720-724                11                    15210   \n",
       "1         6737.50    710-714                14                    19070   \n",
       "2         1000.00    690-694                13                      893   \n",
       "3         7083.33    710-714                12                    38194   \n",
       "4         5833.33    730-734                 6                    31061   \n",
       "\n",
       "   Inquiries.in.the.Last.6.Months Employment.Length  \n",
       "0                             3.0           5 years  \n",
       "1                             3.0           4 years  \n",
       "2                             1.0          < 1 year  \n",
       "3                             1.0         10+ years  \n",
       "4                             2.0         10+ years  "
      ]
     },
     "execution_count": 35,
     "metadata": {},
     "output_type": "execute_result"
    }
   ],
   "source": [
    "ld_train.head()"
   ]
  },
  {
   "cell_type": "code",
   "execution_count": 36,
   "id": "13c9e94e",
   "metadata": {},
   "outputs": [
    {
     "name": "stdout",
     "output_type": "stream",
     "text": [
      "<class 'pandas.core.frame.DataFrame'>\n",
      "RangeIndex: 2200 entries, 0 to 2199\n",
      "Data columns (total 15 columns):\n",
      " #   Column                          Non-Null Count  Dtype  \n",
      "---  ------                          --------------  -----  \n",
      " 0   ID                              2199 non-null   float64\n",
      " 1   Amount.Requested                2199 non-null   object \n",
      " 2   Amount.Funded.By.Investors      2199 non-null   object \n",
      " 3   Interest.Rate                   2200 non-null   object \n",
      " 4   Loan.Length                     2199 non-null   object \n",
      " 5   Loan.Purpose                    2199 non-null   object \n",
      " 6   Debt.To.Income.Ratio            2199 non-null   object \n",
      " 7   State                           2199 non-null   object \n",
      " 8   Home.Ownership                  2199 non-null   object \n",
      " 9   Monthly.Income                  2197 non-null   float64\n",
      " 10  FICO.Range                      2200 non-null   object \n",
      " 11  Open.CREDIT.Lines               2196 non-null   object \n",
      " 12  Revolving.CREDIT.Balance        2197 non-null   object \n",
      " 13  Inquiries.in.the.Last.6.Months  2197 non-null   float64\n",
      " 14  Employment.Length               2131 non-null   object \n",
      "dtypes: float64(3), object(12)\n",
      "memory usage: 257.9+ KB\n"
     ]
    }
   ],
   "source": [
    "ld_train.info()"
   ]
  },
  {
   "cell_type": "code",
   "execution_count": 37,
   "id": "376df6a2",
   "metadata": {},
   "outputs": [],
   "source": [
    "#ID : It doesn't make sense to include unique identifiers of the observation (ID vars) as input. We'll drop this column.\n",
    "\n",
    "#Amount.Requested , Open.CREDIT.Lines, Revolving.CREDIT.Balance : Ideally these should have been numeric columns, but \n",
    "#if we look at the type assigned , it is object type. They must have come as object type because of some odd strings \n",
    "#in the data at one or more places . We'll convert them to numeric type.\n",
    "\n",
    "#Amount.Funded.By.Investors : This information, although present in the data, will not come with loan application. If \n",
    "#we want to build a model for predicting Interest.Rate using loan application characteristics , then we can not include \n",
    "#this information in our model. We'll drop this column.\n",
    "\n",
    "#Interest.Rate, Debt.To.Income.Ratio: These come as object type again because of the % symbol contained in it. We'll \n",
    "#first remove the % sign and then convert it to numeric type.\n",
    "\n",
    "#State , Home.Ownership, Loan.Length, Loan.Purpose : We'll create dummies , ignoring categories with too few occurrences.\n",
    "\n",
    "#Monthly.Income , Inquiries.in.the.Last.6.Months : we will leave it as is.\n",
    "\n",
    "#FICO.Range: This comes as object type because the value written as numeric ranges in the data. As such, we can convert \n",
    "#this to dummies, but we'll not be using information contained in order of the values if we convert them to dummies . \n",
    "#We'll instead take average of the given range using string processing.\n",
    "\n",
    "#Employment.Length: This takes type object; because it takes numeric values written in words. We can again chose to work\n",
    "#with it like a categorical variable, but then we'll end up losing information on the order of values.\n"
   ]
  },
  {
   "cell_type": "code",
   "execution_count": 38,
   "id": "3e33d816",
   "metadata": {},
   "outputs": [],
   "source": [
    "#Combining train and test datasets to convert data in columns. Adding dummy Interest Rate column in Id_test dataset\n",
    "#and data_type column in both dataset so that we can segregate them after changes.\n",
    "\n",
    "ld_test['Interest.Rate']='na'\n",
    "ld_test['data_type']='test'\n",
    "ld_train['data_type']='train'\n",
    "\n",
    "id_all=pd.concat([ld_train,ld_test],axis=0)"
   ]
  },
  {
   "cell_type": "code",
   "execution_count": 39,
   "id": "3fae59ba",
   "metadata": {},
   "outputs": [
    {
     "data": {
      "text/plain": [
       "(2500, 16)"
      ]
     },
     "execution_count": 39,
     "metadata": {},
     "output_type": "execute_result"
    }
   ],
   "source": [
    "id_all.shape"
   ]
  },
  {
   "cell_type": "code",
   "execution_count": 40,
   "id": "deec23cc",
   "metadata": {},
   "outputs": [],
   "source": [
    "# removing ID and Amount.Funded.By.Investors\n",
    "\n",
    "id_all.drop(['ID','Amount.Funded.By.Investors'],axis=1,inplace=True)\n"
   ]
  },
  {
   "cell_type": "code",
   "execution_count": 41,
   "id": "1c9ee083",
   "metadata": {},
   "outputs": [],
   "source": [
    "# Removing % signs from two columns\n",
    "for col in ['Interest.Rate','Debt.To.Income.Ratio']:\n",
    "    id_all[col]=id_all[col].str.replace(\"%\",\"\")\n"
   ]
  },
  {
   "cell_type": "code",
   "execution_count": 42,
   "id": "708ac138",
   "metadata": {},
   "outputs": [],
   "source": [
    "# converting columns to numeric with pandas\n",
    "for col in ['Amount.Requested', 'Interest.Rate','Debt.To.Income.Ratio','Open.CREDIT.Lines','Revolving.CREDIT.Balance']:\n",
    "     id_all[col]=pd.to_numeric(id_all[col],errors='coerce')"
   ]
  },
  {
   "cell_type": "code",
   "execution_count": 43,
   "id": "1c79047e",
   "metadata": {},
   "outputs": [],
   "source": [
    "# Processing FICO.Range\n",
    "k=id_all['FICO.Range'].str.split(\"-\",expand=True).astype(float)\n",
    "id_all['fico']=0.5*(k[0]+k[1])\n",
    "del id_all['FICO.Range']\n"
   ]
  },
  {
   "cell_type": "code",
   "execution_count": 44,
   "id": "b94e8768",
   "metadata": {},
   "outputs": [],
   "source": [
    "# Processing Employment.Length\n",
    "id_all['Employment.Length']=id_all['Employment.Length'].str.replace('years','')\n",
    "id_all['Employment.Length']=id_all['Employment.Length'].str.replace('year','')\n",
    "id_all['Employment.Length']=np.where(id_all['Employment.Length'].str[0]=='<',0, id_all['Employment.Length'])\n",
    "id_all['Employment.Length']=np.where(id_all['Employment.Length'].str[:2]=='10',10, id_all['Employment.Length'])\n",
    "id_all['Employment.Length']=pd.to_numeric(id_all['Employment.Length'],errors='coerce')\n"
   ]
  },
  {
   "cell_type": "code",
   "execution_count": 45,
   "id": "e5ffe6ef",
   "metadata": {},
   "outputs": [
    {
     "data": {
      "text/html": [
       "<div>\n",
       "<style scoped>\n",
       "    .dataframe tbody tr th:only-of-type {\n",
       "        vertical-align: middle;\n",
       "    }\n",
       "\n",
       "    .dataframe tbody tr th {\n",
       "        vertical-align: top;\n",
       "    }\n",
       "\n",
       "    .dataframe thead th {\n",
       "        text-align: right;\n",
       "    }\n",
       "</style>\n",
       "<table border=\"1\" class=\"dataframe\">\n",
       "  <thead>\n",
       "    <tr style=\"text-align: right;\">\n",
       "      <th></th>\n",
       "      <th>Amount.Requested</th>\n",
       "      <th>Interest.Rate</th>\n",
       "      <th>Loan.Length</th>\n",
       "      <th>Loan.Purpose</th>\n",
       "      <th>Debt.To.Income.Ratio</th>\n",
       "      <th>State</th>\n",
       "      <th>Home.Ownership</th>\n",
       "      <th>Monthly.Income</th>\n",
       "      <th>Open.CREDIT.Lines</th>\n",
       "      <th>Revolving.CREDIT.Balance</th>\n",
       "      <th>Inquiries.in.the.Last.6.Months</th>\n",
       "      <th>Employment.Length</th>\n",
       "      <th>data_type</th>\n",
       "      <th>fico</th>\n",
       "    </tr>\n",
       "  </thead>\n",
       "  <tbody>\n",
       "    <tr>\n",
       "      <th>0</th>\n",
       "      <td>25000.0</td>\n",
       "      <td>18.49</td>\n",
       "      <td>60 months</td>\n",
       "      <td>debt_consolidation</td>\n",
       "      <td>27.56</td>\n",
       "      <td>VA</td>\n",
       "      <td>MORTGAGE</td>\n",
       "      <td>8606.56</td>\n",
       "      <td>11.0</td>\n",
       "      <td>15210.0</td>\n",
       "      <td>3.0</td>\n",
       "      <td>5.0</td>\n",
       "      <td>train</td>\n",
       "      <td>722.0</td>\n",
       "    </tr>\n",
       "    <tr>\n",
       "      <th>1</th>\n",
       "      <td>19750.0</td>\n",
       "      <td>17.27</td>\n",
       "      <td>60 months</td>\n",
       "      <td>debt_consolidation</td>\n",
       "      <td>13.39</td>\n",
       "      <td>NY</td>\n",
       "      <td>MORTGAGE</td>\n",
       "      <td>6737.50</td>\n",
       "      <td>14.0</td>\n",
       "      <td>19070.0</td>\n",
       "      <td>3.0</td>\n",
       "      <td>4.0</td>\n",
       "      <td>train</td>\n",
       "      <td>712.0</td>\n",
       "    </tr>\n",
       "    <tr>\n",
       "      <th>2</th>\n",
       "      <td>2100.0</td>\n",
       "      <td>14.33</td>\n",
       "      <td>36 months</td>\n",
       "      <td>major_purchase</td>\n",
       "      <td>3.50</td>\n",
       "      <td>LA</td>\n",
       "      <td>OWN</td>\n",
       "      <td>1000.00</td>\n",
       "      <td>13.0</td>\n",
       "      <td>893.0</td>\n",
       "      <td>1.0</td>\n",
       "      <td>0.0</td>\n",
       "      <td>train</td>\n",
       "      <td>692.0</td>\n",
       "    </tr>\n",
       "    <tr>\n",
       "      <th>3</th>\n",
       "      <td>28000.0</td>\n",
       "      <td>16.29</td>\n",
       "      <td>36 months</td>\n",
       "      <td>credit_card</td>\n",
       "      <td>19.62</td>\n",
       "      <td>NV</td>\n",
       "      <td>MORTGAGE</td>\n",
       "      <td>7083.33</td>\n",
       "      <td>12.0</td>\n",
       "      <td>38194.0</td>\n",
       "      <td>1.0</td>\n",
       "      <td>10.0</td>\n",
       "      <td>train</td>\n",
       "      <td>712.0</td>\n",
       "    </tr>\n",
       "    <tr>\n",
       "      <th>4</th>\n",
       "      <td>24250.0</td>\n",
       "      <td>12.23</td>\n",
       "      <td>60 months</td>\n",
       "      <td>credit_card</td>\n",
       "      <td>23.79</td>\n",
       "      <td>OH</td>\n",
       "      <td>MORTGAGE</td>\n",
       "      <td>5833.33</td>\n",
       "      <td>6.0</td>\n",
       "      <td>31061.0</td>\n",
       "      <td>2.0</td>\n",
       "      <td>10.0</td>\n",
       "      <td>train</td>\n",
       "      <td>732.0</td>\n",
       "    </tr>\n",
       "  </tbody>\n",
       "</table>\n",
       "</div>"
      ],
      "text/plain": [
       "   Amount.Requested  Interest.Rate Loan.Length        Loan.Purpose  \\\n",
       "0           25000.0          18.49   60 months  debt_consolidation   \n",
       "1           19750.0          17.27   60 months  debt_consolidation   \n",
       "2            2100.0          14.33   36 months      major_purchase   \n",
       "3           28000.0          16.29   36 months         credit_card   \n",
       "4           24250.0          12.23   60 months         credit_card   \n",
       "\n",
       "   Debt.To.Income.Ratio State Home.Ownership  Monthly.Income  \\\n",
       "0                 27.56    VA       MORTGAGE         8606.56   \n",
       "1                 13.39    NY       MORTGAGE         6737.50   \n",
       "2                  3.50    LA            OWN         1000.00   \n",
       "3                 19.62    NV       MORTGAGE         7083.33   \n",
       "4                 23.79    OH       MORTGAGE         5833.33   \n",
       "\n",
       "   Open.CREDIT.Lines  Revolving.CREDIT.Balance  \\\n",
       "0               11.0                   15210.0   \n",
       "1               14.0                   19070.0   \n",
       "2               13.0                     893.0   \n",
       "3               12.0                   38194.0   \n",
       "4                6.0                   31061.0   \n",
       "\n",
       "   Inquiries.in.the.Last.6.Months  Employment.Length data_type   fico  \n",
       "0                             3.0                5.0     train  722.0  \n",
       "1                             3.0                4.0     train  712.0  \n",
       "2                             1.0                0.0     train  692.0  \n",
       "3                             1.0               10.0     train  712.0  \n",
       "4                             2.0               10.0     train  732.0  "
      ]
     },
     "execution_count": 45,
     "metadata": {},
     "output_type": "execute_result"
    }
   ],
   "source": [
    "id_all.head()"
   ]
  },
  {
   "cell_type": "code",
   "execution_count": 46,
   "id": "d3c19194",
   "metadata": {},
   "outputs": [],
   "source": [
    "# Creating dummies with frequency cutoff\n",
    "cat_col=['State' , 'Home.Ownership', 'Loan.Length', 'Loan.Purpose']\n",
    "for col in cat_col :\n",
    "    k=id_all[col].value_counts(dropna=False)\n",
    "    cats=k.index[k>50][:-1]\n",
    "    for cat in cats:\n",
    "        name=col+'_'+cat\n",
    "        id_all[name]=(id_all[col]==cat).astype(int)\n",
    "del id_all[col] "
   ]
  },
  {
   "cell_type": "code",
   "execution_count": null,
   "id": "ffab1c98",
   "metadata": {},
   "outputs": [],
   "source": [
    "del id_all['State']\n",
    "del id_all['Home.Ownership']\n",
    "del id_all['Loan.Length']\n",
    "#del id_all['Loan.Purpose']"
   ]
  },
  {
   "cell_type": "code",
   "execution_count": 51,
   "id": "7ada79bd",
   "metadata": {},
   "outputs": [
    {
     "name": "stdout",
     "output_type": "stream",
     "text": [
      "<class 'pandas.core.frame.DataFrame'>\n",
      "Int64Index: 2500 entries, 0 to 299\n",
      "Data columns (total 32 columns):\n",
      " #   Column                           Non-Null Count  Dtype  \n",
      "---  ------                           --------------  -----  \n",
      " 0   Amount.Requested                 2495 non-null   float64\n",
      " 1   Interest.Rate                    2200 non-null   float64\n",
      " 2   Debt.To.Income.Ratio             2499 non-null   float64\n",
      " 3   Monthly.Income                   2497 non-null   float64\n",
      " 4   Open.CREDIT.Lines                2491 non-null   float64\n",
      " 5   Revolving.CREDIT.Balance         2495 non-null   float64\n",
      " 6   Inquiries.in.the.Last.6.Months   2497 non-null   float64\n",
      " 7   Employment.Length                2420 non-null   float64\n",
      " 8   data_type                        2500 non-null   object \n",
      " 9   fico                             2500 non-null   float64\n",
      " 10  State_CA                         2500 non-null   int32  \n",
      " 11  State_NY                         2500 non-null   int32  \n",
      " 12  State_TX                         2500 non-null   int32  \n",
      " 13  State_FL                         2500 non-null   int32  \n",
      " 14  State_IL                         2500 non-null   int32  \n",
      " 15  State_GA                         2500 non-null   int32  \n",
      " 16  State_PA                         2500 non-null   int32  \n",
      " 17  State_NJ                         2500 non-null   int32  \n",
      " 18  State_VA                         2500 non-null   int32  \n",
      " 19  State_MA                         2500 non-null   int32  \n",
      " 20  State_OH                         2500 non-null   int32  \n",
      " 21  State_MD                         2500 non-null   int32  \n",
      " 22  State_NC                         2500 non-null   int32  \n",
      " 23  State_CO                         2500 non-null   int32  \n",
      " 24  Home.Ownership_MORTGAGE          2500 non-null   int32  \n",
      " 25  Home.Ownership_RENT              2500 non-null   int32  \n",
      " 26  Loan.Length_36 months            2500 non-null   int32  \n",
      " 27  Loan.Purpose_debt_consolidation  2500 non-null   int32  \n",
      " 28  Loan.Purpose_credit_card         2500 non-null   int32  \n",
      " 29  Loan.Purpose_other               2500 non-null   int32  \n",
      " 30  Loan.Purpose_home_improvement    2500 non-null   int32  \n",
      " 31  Loan.Purpose_major_purchase      2500 non-null   int32  \n",
      "dtypes: float64(9), int32(22), object(1)\n",
      "memory usage: 429.7+ KB\n"
     ]
    }
   ],
   "source": [
    "id_all.info()"
   ]
  },
  {
   "cell_type": "code",
   "execution_count": 54,
   "id": "22a51512",
   "metadata": {},
   "outputs": [
    {
     "data": {
      "text/plain": [
       "Amount.Requested                   0\n",
       "Interest.Rate                      0\n",
       "Debt.To.Income.Ratio               0\n",
       "Monthly.Income                     0\n",
       "Open.CREDIT.Lines                  0\n",
       "Revolving.CREDIT.Balance           0\n",
       "Inquiries.in.the.Last.6.Months     0\n",
       "Employment.Length                  0\n",
       "data_type                          0\n",
       "fico                               0\n",
       "State_CA                           0\n",
       "State_NY                           0\n",
       "State_TX                           0\n",
       "State_FL                           0\n",
       "State_IL                           0\n",
       "State_GA                           0\n",
       "State_PA                           0\n",
       "State_NJ                           0\n",
       "State_VA                           0\n",
       "State_MA                           0\n",
       "State_OH                           0\n",
       "State_MD                           0\n",
       "State_NC                           0\n",
       "State_CO                           0\n",
       "Home.Ownership_MORTGAGE            0\n",
       "Home.Ownership_RENT                0\n",
       "Loan.Length_36 months              0\n",
       "Loan.Purpose_debt_consolidation    0\n",
       "Loan.Purpose_credit_card           0\n",
       "Loan.Purpose_other                 0\n",
       "Loan.Purpose_home_improvement      0\n",
       "Loan.Purpose_major_purchase        0\n",
       "dtype: int64"
      ]
     },
     "execution_count": 54,
     "metadata": {},
     "output_type": "execute_result"
    }
   ],
   "source": [
    "# checking for missing values in the data\n",
    "id_all.isnull().sum()\n"
   ]
  },
  {
   "cell_type": "code",
   "execution_count": 53,
   "id": "1d99a51c",
   "metadata": {},
   "outputs": [],
   "source": [
    "# imputing missing values with averages of the columns\n",
    "for col in id_all.columns:\n",
    "    if id_all[col].isnull().sum()>0:\n",
    "        id_all.loc[id_all[col].isnull(),col]=id_all[col].mean()"
   ]
  },
  {
   "cell_type": "code",
   "execution_count": 55,
   "id": "892363c8",
   "metadata": {},
   "outputs": [
    {
     "data": {
      "text/html": [
       "<div>\n",
       "<style scoped>\n",
       "    .dataframe tbody tr th:only-of-type {\n",
       "        vertical-align: middle;\n",
       "    }\n",
       "\n",
       "    .dataframe tbody tr th {\n",
       "        vertical-align: top;\n",
       "    }\n",
       "\n",
       "    .dataframe thead th {\n",
       "        text-align: right;\n",
       "    }\n",
       "</style>\n",
       "<table border=\"1\" class=\"dataframe\">\n",
       "  <thead>\n",
       "    <tr style=\"text-align: right;\">\n",
       "      <th></th>\n",
       "      <th>Amount.Requested</th>\n",
       "      <th>Interest.Rate</th>\n",
       "      <th>Debt.To.Income.Ratio</th>\n",
       "      <th>Monthly.Income</th>\n",
       "      <th>Open.CREDIT.Lines</th>\n",
       "      <th>Revolving.CREDIT.Balance</th>\n",
       "      <th>Inquiries.in.the.Last.6.Months</th>\n",
       "      <th>Employment.Length</th>\n",
       "      <th>data_type</th>\n",
       "      <th>fico</th>\n",
       "      <th>...</th>\n",
       "      <th>State_NC</th>\n",
       "      <th>State_CO</th>\n",
       "      <th>Home.Ownership_MORTGAGE</th>\n",
       "      <th>Home.Ownership_RENT</th>\n",
       "      <th>Loan.Length_36 months</th>\n",
       "      <th>Loan.Purpose_debt_consolidation</th>\n",
       "      <th>Loan.Purpose_credit_card</th>\n",
       "      <th>Loan.Purpose_other</th>\n",
       "      <th>Loan.Purpose_home_improvement</th>\n",
       "      <th>Loan.Purpose_major_purchase</th>\n",
       "    </tr>\n",
       "  </thead>\n",
       "  <tbody>\n",
       "    <tr>\n",
       "      <th>0</th>\n",
       "      <td>25000.0</td>\n",
       "      <td>18.49</td>\n",
       "      <td>27.56</td>\n",
       "      <td>8606.56</td>\n",
       "      <td>11.0</td>\n",
       "      <td>15210.0</td>\n",
       "      <td>3.0</td>\n",
       "      <td>5.0</td>\n",
       "      <td>train</td>\n",
       "      <td>722.0</td>\n",
       "      <td>...</td>\n",
       "      <td>0</td>\n",
       "      <td>0</td>\n",
       "      <td>1</td>\n",
       "      <td>0</td>\n",
       "      <td>0</td>\n",
       "      <td>1</td>\n",
       "      <td>0</td>\n",
       "      <td>0</td>\n",
       "      <td>0</td>\n",
       "      <td>0</td>\n",
       "    </tr>\n",
       "    <tr>\n",
       "      <th>1</th>\n",
       "      <td>19750.0</td>\n",
       "      <td>17.27</td>\n",
       "      <td>13.39</td>\n",
       "      <td>6737.50</td>\n",
       "      <td>14.0</td>\n",
       "      <td>19070.0</td>\n",
       "      <td>3.0</td>\n",
       "      <td>4.0</td>\n",
       "      <td>train</td>\n",
       "      <td>712.0</td>\n",
       "      <td>...</td>\n",
       "      <td>0</td>\n",
       "      <td>0</td>\n",
       "      <td>1</td>\n",
       "      <td>0</td>\n",
       "      <td>0</td>\n",
       "      <td>1</td>\n",
       "      <td>0</td>\n",
       "      <td>0</td>\n",
       "      <td>0</td>\n",
       "      <td>0</td>\n",
       "    </tr>\n",
       "    <tr>\n",
       "      <th>2</th>\n",
       "      <td>2100.0</td>\n",
       "      <td>14.33</td>\n",
       "      <td>3.50</td>\n",
       "      <td>1000.00</td>\n",
       "      <td>13.0</td>\n",
       "      <td>893.0</td>\n",
       "      <td>1.0</td>\n",
       "      <td>0.0</td>\n",
       "      <td>train</td>\n",
       "      <td>692.0</td>\n",
       "      <td>...</td>\n",
       "      <td>0</td>\n",
       "      <td>0</td>\n",
       "      <td>0</td>\n",
       "      <td>0</td>\n",
       "      <td>1</td>\n",
       "      <td>0</td>\n",
       "      <td>0</td>\n",
       "      <td>0</td>\n",
       "      <td>0</td>\n",
       "      <td>1</td>\n",
       "    </tr>\n",
       "    <tr>\n",
       "      <th>3</th>\n",
       "      <td>28000.0</td>\n",
       "      <td>16.29</td>\n",
       "      <td>19.62</td>\n",
       "      <td>7083.33</td>\n",
       "      <td>12.0</td>\n",
       "      <td>38194.0</td>\n",
       "      <td>1.0</td>\n",
       "      <td>10.0</td>\n",
       "      <td>train</td>\n",
       "      <td>712.0</td>\n",
       "      <td>...</td>\n",
       "      <td>0</td>\n",
       "      <td>0</td>\n",
       "      <td>1</td>\n",
       "      <td>0</td>\n",
       "      <td>1</td>\n",
       "      <td>0</td>\n",
       "      <td>1</td>\n",
       "      <td>0</td>\n",
       "      <td>0</td>\n",
       "      <td>0</td>\n",
       "    </tr>\n",
       "    <tr>\n",
       "      <th>4</th>\n",
       "      <td>24250.0</td>\n",
       "      <td>12.23</td>\n",
       "      <td>23.79</td>\n",
       "      <td>5833.33</td>\n",
       "      <td>6.0</td>\n",
       "      <td>31061.0</td>\n",
       "      <td>2.0</td>\n",
       "      <td>10.0</td>\n",
       "      <td>train</td>\n",
       "      <td>732.0</td>\n",
       "      <td>...</td>\n",
       "      <td>0</td>\n",
       "      <td>0</td>\n",
       "      <td>1</td>\n",
       "      <td>0</td>\n",
       "      <td>0</td>\n",
       "      <td>0</td>\n",
       "      <td>1</td>\n",
       "      <td>0</td>\n",
       "      <td>0</td>\n",
       "      <td>0</td>\n",
       "    </tr>\n",
       "  </tbody>\n",
       "</table>\n",
       "<p>5 rows × 32 columns</p>\n",
       "</div>"
      ],
      "text/plain": [
       "   Amount.Requested  Interest.Rate  Debt.To.Income.Ratio  Monthly.Income  \\\n",
       "0           25000.0          18.49                 27.56         8606.56   \n",
       "1           19750.0          17.27                 13.39         6737.50   \n",
       "2            2100.0          14.33                  3.50         1000.00   \n",
       "3           28000.0          16.29                 19.62         7083.33   \n",
       "4           24250.0          12.23                 23.79         5833.33   \n",
       "\n",
       "   Open.CREDIT.Lines  Revolving.CREDIT.Balance  \\\n",
       "0               11.0                   15210.0   \n",
       "1               14.0                   19070.0   \n",
       "2               13.0                     893.0   \n",
       "3               12.0                   38194.0   \n",
       "4                6.0                   31061.0   \n",
       "\n",
       "   Inquiries.in.the.Last.6.Months  Employment.Length data_type   fico  ...  \\\n",
       "0                             3.0                5.0     train  722.0  ...   \n",
       "1                             3.0                4.0     train  712.0  ...   \n",
       "2                             1.0                0.0     train  692.0  ...   \n",
       "3                             1.0               10.0     train  712.0  ...   \n",
       "4                             2.0               10.0     train  732.0  ...   \n",
       "\n",
       "   State_NC  State_CO  Home.Ownership_MORTGAGE  Home.Ownership_RENT  \\\n",
       "0         0         0                        1                    0   \n",
       "1         0         0                        1                    0   \n",
       "2         0         0                        0                    0   \n",
       "3         0         0                        1                    0   \n",
       "4         0         0                        1                    0   \n",
       "\n",
       "   Loan.Length_36 months  Loan.Purpose_debt_consolidation  \\\n",
       "0                      0                                1   \n",
       "1                      0                                1   \n",
       "2                      1                                0   \n",
       "3                      1                                0   \n",
       "4                      0                                0   \n",
       "\n",
       "   Loan.Purpose_credit_card  Loan.Purpose_other  \\\n",
       "0                         0                   0   \n",
       "1                         0                   0   \n",
       "2                         0                   0   \n",
       "3                         1                   0   \n",
       "4                         1                   0   \n",
       "\n",
       "   Loan.Purpose_home_improvement  Loan.Purpose_major_purchase  \n",
       "0                              0                            0  \n",
       "1                              0                            0  \n",
       "2                              0                            1  \n",
       "3                              0                            0  \n",
       "4                              0                            0  \n",
       "\n",
       "[5 rows x 32 columns]"
      ]
     },
     "execution_count": 55,
     "metadata": {},
     "output_type": "execute_result"
    }
   ],
   "source": [
    "id_all.head()"
   ]
  },
  {
   "cell_type": "code",
   "execution_count": 56,
   "id": "f63577bd",
   "metadata": {},
   "outputs": [],
   "source": [
    "pd_train=id_all[id_all['data_type']=='train']\n",
    "pd_test=id_all[id_all['data_type']=='test']"
   ]
  },
  {
   "cell_type": "code",
   "execution_count": 58,
   "id": "a22ba5d7",
   "metadata": {},
   "outputs": [],
   "source": [
    "pd_test.drop(['data_type','Interest.Rate'],1,inplace=True)\n",
    "del pd_train['data_type']\n",
    "del id_all"
   ]
  },
  {
   "cell_type": "code",
   "execution_count": 59,
   "id": "c2153413",
   "metadata": {},
   "outputs": [
    {
     "data": {
      "text/plain": [
       "((2200, 31), (300, 30))"
      ]
     },
     "execution_count": 59,
     "metadata": {},
     "output_type": "execute_result"
    }
   ],
   "source": [
    "pd_train.shape,pd_test.shape"
   ]
  },
  {
   "cell_type": "code",
   "execution_count": 64,
   "id": "4f663045",
   "metadata": {},
   "outputs": [],
   "source": [
    "# breaking data into two parts\n",
    "from sklearn.model_selection import train_test_split\n",
    "t1,t2=train_test_split(pd_train,test_size=0.2,random_state=123)\n",
    "# test_size=0.2, means the data is being split into two parts in the 80:20 ratio.\n",
    "# t1 will contain 80%, and t2 will get 20% of the obs.\n",
    "# random_state=123, simply makes the random process reproducible\n"
   ]
  },
  {
   "cell_type": "code",
   "execution_count": 65,
   "id": "741a9970",
   "metadata": {},
   "outputs": [],
   "source": [
    "#breaking data in training and test for X & Y\n",
    "x_train=t1.drop('Interest.Rate',axis=1)\n",
    "y_train=t1['Interest.Rate']\n",
    "x_test=t2.drop('Interest.Rate',axis=1)\n",
    "y_test=t2['Interest.Rate']\n"
   ]
  },
  {
   "cell_type": "markdown",
   "id": "41e4a0c8",
   "metadata": {},
   "source": [
    "# Starting with Linear regression"
   ]
  },
  {
   "cell_type": "code",
   "execution_count": 66,
   "id": "3376f790",
   "metadata": {},
   "outputs": [
    {
     "data": {
      "text/plain": [
       "LinearRegression()"
      ]
     },
     "execution_count": 66,
     "metadata": {},
     "output_type": "execute_result"
    }
   ],
   "source": [
    "# import the function for Linear Regression\n",
    "from sklearn.linear_model import LinearRegression\n",
    "lr=LinearRegression()\n",
    "# fit function , builds the model ( parameter estimation etc)\n",
    "lr.fit(x_train,y_train)"
   ]
  },
  {
   "cell_type": "code",
   "execution_count": 68,
   "id": "76d972b4",
   "metadata": {},
   "outputs": [
    {
     "data": {
      "text/plain": [
       "1.653163703521755"
      ]
     },
     "execution_count": 68,
     "metadata": {},
     "output_type": "execute_result"
    }
   ],
   "source": [
    "predicted_values=lr.predict(x_test)\n",
    "from sklearn.metrics import mean_absolute_error\n",
    "mean_absolute_error(predicted_values,y_test)"
   ]
  },
  {
   "cell_type": "code",
   "execution_count": 69,
   "id": "7c0aa5eb",
   "metadata": {},
   "outputs": [],
   "source": [
    "from sklearn.model_selection import cross_val_score"
   ]
  },
  {
   "cell_type": "code",
   "execution_count": 70,
   "id": "0f420de7",
   "metadata": {},
   "outputs": [],
   "source": [
    "errors =np.abs(cross_val_score(lr,x_train,y_train,cv=10,scoring='neg_mean_absolute_error'))\n",
    "# cv=10 , means 10 fold cross validation\n",
    "# Regarding scoring functions, the general theme in scikit learn is , higher the better\n",
    "# to remain consistent with the same , instead of mean_absolute_error, available function for regression is neg_mean_absolute_error\n",
    "# we can always wrap that and take positve values [ with np.abs ]"
   ]
  },
  {
   "cell_type": "code",
   "execution_count": 71,
   "id": "7761655f",
   "metadata": {},
   "outputs": [
    {
     "data": {
      "text/plain": [
       "array([1.45111811, 1.58646582, 1.61879344, 1.57590657, 1.66592409,\n",
       "       1.70202519, 1.60983759, 1.62351837, 1.5811983 , 1.52873518])"
      ]
     },
     "execution_count": 71,
     "metadata": {},
     "output_type": "execute_result"
    }
   ],
   "source": [
    "errors"
   ]
  },
  {
   "cell_type": "code",
   "execution_count": 72,
   "id": "ce256915",
   "metadata": {},
   "outputs": [
    {
     "data": {
      "text/plain": [
       "(1.5943522675407418, 0.06618225100215)"
      ]
     },
     "execution_count": 72,
     "metadata": {},
     "output_type": "execute_result"
    }
   ],
   "source": [
    "avg_error=errors.mean()\n",
    "error_std=np.std(errors)\n",
    "avg_error,error_std"
   ]
  },
  {
   "cell_type": "markdown",
   "id": "57bcd847",
   "metadata": {},
   "source": [
    "# Using Regularization Ridge and Lasso"
   ]
  },
  {
   "cell_type": "code",
   "execution_count": 73,
   "id": "f3a4c2d9",
   "metadata": {},
   "outputs": [],
   "source": [
    "from sklearn.linear_model import Ridge,Lasso\n",
    "from sklearn.model_selection import GridSearchCV\n"
   ]
  },
  {
   "cell_type": "code",
   "execution_count": 74,
   "id": "b38c0d09",
   "metadata": {},
   "outputs": [],
   "source": [
    "# we are going to try out values from 1 to 100\n",
    "# what we have referring to as lambda is named alpha in the sklearn implementation\n",
    "# we'll pass this dictionary to GridSearchCV function\n",
    "lambdas=np.linspace(1,100,200)\n",
    "params={'alpha':lambdas}"
   ]
  },
  {
   "cell_type": "code",
   "execution_count": 76,
   "id": "05087c8b",
   "metadata": {},
   "outputs": [],
   "source": [
    "# this is the model for which we are tryin to estimate best value of lambda\n",
    "model=Ridge(fit_intercept=True)"
   ]
  },
  {
   "cell_type": "code",
   "execution_count": 77,
   "id": "7cdaba30",
   "metadata": {},
   "outputs": [],
   "source": [
    "# this function will be trying out all the values of lambdas passed to it and record cross-validate performance\n",
    "# using a custom function we'll extract the results\n",
    "grid_search=GridSearchCV(model,param_grid=params,cv=10,scoring='neg_mean_absolute_error')"
   ]
  },
  {
   "cell_type": "code",
   "execution_count": 78,
   "id": "fdccc799",
   "metadata": {},
   "outputs": [
    {
     "data": {
      "text/plain": [
       "GridSearchCV(cv=10, estimator=Ridge(),\n",
       "             param_grid={'alpha': array([  1.        ,   1.49748744,   1.99497487,   2.49246231,\n",
       "         2.98994975,   3.48743719,   3.98492462,   4.48241206,\n",
       "         4.9798995 ,   5.47738693,   5.97487437,   6.47236181,\n",
       "         6.96984925,   7.46733668,   7.96482412,   8.46231156,\n",
       "         8.95979899,   9.45728643,   9.95477387,  10.45226131,\n",
       "        10.94974874,  11.44723618,  11.94472362,  12.44221106,\n",
       "        12.93969849,  13.43718593,  13...\n",
       "        86.5678392 ,  87.06532663,  87.56281407,  88.06030151,\n",
       "        88.55778894,  89.05527638,  89.55276382,  90.05025126,\n",
       "        90.54773869,  91.04522613,  91.54271357,  92.04020101,\n",
       "        92.53768844,  93.03517588,  93.53266332,  94.03015075,\n",
       "        94.52763819,  95.02512563,  95.52261307,  96.0201005 ,\n",
       "        96.51758794,  97.01507538,  97.51256281,  98.01005025,\n",
       "        98.50753769,  99.00502513,  99.50251256, 100.        ])},\n",
       "             scoring='neg_mean_absolute_error')"
      ]
     },
     "execution_count": 78,
     "metadata": {},
     "output_type": "execute_result"
    }
   ],
   "source": [
    "grid_search.fit(x_train,y_train)"
   ]
  },
  {
   "cell_type": "code",
   "execution_count": 79,
   "id": "bcd15e27",
   "metadata": {},
   "outputs": [
    {
     "data": {
      "text/plain": [
       "Ridge(alpha=14.4321608040201)"
      ]
     },
     "execution_count": 79,
     "metadata": {},
     "output_type": "execute_result"
    }
   ],
   "source": [
    "grid_search.best_estimator_"
   ]
  },
  {
   "cell_type": "code",
   "execution_count": 97,
   "id": "088b33ab",
   "metadata": {},
   "outputs": [],
   "source": [
    "#Creating a report which will give us best estimator\n",
    "def report(results, n_top=3):\n",
    "    for i in range(1, n_top + 1): \n",
    "         # np.flatnonzero extracts index of `True` in a boolean array\n",
    "        candidate = np.flatnonzero(results['rank_test_score'] == i)[0]\n",
    "        # print rank of the model\n",
    "         # values passed to function format here are put in the curly brackets when printing\n",
    "         # 0 , 1 etc refer to placeholder for position of values passed to format function\n",
    "         # .3f means upto 2 decimal digits\n",
    "        print(\"Model with rank: {0}\".format(i))\n",
    "         # this prints cross validate performance and its standard deviation\n",
    "        print(\"Mean validation score: {0:.5f} (std: {1:.5f})\".format(\n",
    "              results['mean_test_score'][candidate],\n",
    "              results['std_test_score'][candidate]))\n",
    "            # prints the paramter combination for which this performance was obtained\n",
    "        print(\"Parameters: {0}\".format(results['params'][candidate]))\n",
    "        print(\"\")"
   ]
  },
  {
   "cell_type": "code",
   "execution_count": 98,
   "id": "f5cbc0fe",
   "metadata": {},
   "outputs": [
    {
     "name": "stdout",
     "output_type": "stream",
     "text": [
      "Model with rank: 1\n",
      "Mean validation score: -1.59223 (std: 0.06409)\n",
      "Parameters: {'alpha': 14.4321608040201}\n",
      "\n",
      "Model with rank: 2\n",
      "Mean validation score: -1.59223 (std: 0.06407)\n",
      "Parameters: {'alpha': 14.92964824120603}\n",
      "\n",
      "Model with rank: 3\n",
      "Mean validation score: -1.59223 (std: 0.06410)\n",
      "Parameters: {'alpha': 13.93467336683417}\n",
      "\n"
     ]
    }
   ],
   "source": [
    "report(grid_search.cv_results_,3)"
   ]
  },
  {
   "cell_type": "code",
   "execution_count": 99,
   "id": "e66a9c20",
   "metadata": {},
   "outputs": [
    {
     "data": {
      "text/plain": [
       "Ridge(alpha=14.4321608040201)"
      ]
     },
     "execution_count": 99,
     "metadata": {},
     "output_type": "execute_result"
    }
   ],
   "source": [
    "ridge=grid_search.best_estimator_\n",
    "ridge.fit(x_train,y_train)"
   ]
  },
  {
   "cell_type": "code",
   "execution_count": 105,
   "id": "8b30b71c",
   "metadata": {},
   "outputs": [],
   "source": [
    "# there is no ideal range for any parameter search\n",
    "# generally whatever range that you search in ,\n",
    "# if the best value comes at the either edge of the range,\n",
    "# you should expand on that side\n",
    "# however if you keep on getting always largets value of lambda as best here\n",
    "# that simply means that all vars are junk\n",
    "# same on the lower side means , all vars are good and penalty is not necessary\n",
    "lambdas=np.linspace(0.001,2,200)\n",
    "params={'alpha':lambdas}"
   ]
  },
  {
   "cell_type": "code",
   "execution_count": 106,
   "id": "d590a857",
   "metadata": {},
   "outputs": [],
   "source": [
    "modell=Lasso(fit_intercept=True)"
   ]
  },
  {
   "cell_type": "code",
   "execution_count": 111,
   "id": "87ec603f",
   "metadata": {},
   "outputs": [],
   "source": [
    "grid_search=GridSearchCV(modell,param_grid=params,cv=10,scoring='neg_mean_absolute_error')"
   ]
  },
  {
   "cell_type": "code",
   "execution_count": 112,
   "id": "e8cfaecd",
   "metadata": {},
   "outputs": [
    {
     "data": {
      "text/plain": [
       "GridSearchCV(cv=10, estimator=Lasso(),\n",
       "             param_grid={'alpha': array([1.00000000e-03, 1.10452261e-02, 2.10904523e-02, 3.11356784e-02,\n",
       "       4.11809045e-02, 5.12261307e-02, 6.12713568e-02, 7.13165829e-02,\n",
       "       8.13618090e-02, 9.14070352e-02, 1.01452261e-01, 1.11497487e-01,\n",
       "       1.21542714e-01, 1.31587940e-01, 1.41633166e-01, 1.51678392e-01,\n",
       "       1.61723618e-01, 1.71768844e-01, 1.81814070e-01, 1...\n",
       "       1.76895980e+00, 1.77900503e+00, 1.78905025e+00, 1.79909548e+00,\n",
       "       1.80914070e+00, 1.81918593e+00, 1.82923116e+00, 1.83927638e+00,\n",
       "       1.84932161e+00, 1.85936683e+00, 1.86941206e+00, 1.87945729e+00,\n",
       "       1.88950251e+00, 1.89954774e+00, 1.90959296e+00, 1.91963819e+00,\n",
       "       1.92968342e+00, 1.93972864e+00, 1.94977387e+00, 1.95981910e+00,\n",
       "       1.96986432e+00, 1.97990955e+00, 1.98995477e+00, 2.00000000e+00])},\n",
       "             scoring='neg_mean_absolute_error')"
      ]
     },
     "execution_count": 112,
     "metadata": {},
     "output_type": "execute_result"
    }
   ],
   "source": [
    "grid_search.fit(x_train,y_train)"
   ]
  },
  {
   "cell_type": "code",
   "execution_count": 113,
   "id": "ff55ea9f",
   "metadata": {},
   "outputs": [
    {
     "data": {
      "text/plain": [
       "Lasso(alpha=0.011045226130653268)"
      ]
     },
     "execution_count": 113,
     "metadata": {},
     "output_type": "execute_result"
    }
   ],
   "source": [
    "grid_search.best_estimator_"
   ]
  },
  {
   "cell_type": "code",
   "execution_count": 114,
   "id": "42272144",
   "metadata": {},
   "outputs": [
    {
     "name": "stdout",
     "output_type": "stream",
     "text": [
      "Model with rank: 1\n",
      "Mean validation score: -1.58988 (std: 0.06283)\n",
      "Parameters: {'alpha': 0.011045226130653268}\n",
      "\n",
      "Model with rank: 2\n",
      "Mean validation score: -1.59217 (std: 0.06307)\n",
      "Parameters: {'alpha': 0.021090452261306535}\n",
      "\n",
      "Model with rank: 3\n",
      "Mean validation score: -1.59335 (std: 0.06584)\n",
      "Parameters: {'alpha': 0.001}\n",
      "\n",
      "Model with rank: 4\n",
      "Mean validation score: -1.59859 (std: 0.06463)\n",
      "Parameters: {'alpha': 0.0311356783919598}\n",
      "\n",
      "Model with rank: 5\n",
      "Mean validation score: -1.60186 (std: 0.06611)\n",
      "Parameters: {'alpha': 0.04118090452261307}\n",
      "\n"
     ]
    }
   ],
   "source": [
    "report(grid_search.cv_results_,5)"
   ]
  },
  {
   "cell_type": "code",
   "execution_count": 115,
   "id": "2d07757c",
   "metadata": {},
   "outputs": [
    {
     "data": {
      "text/plain": [
       "Lasso(alpha=0.011045226130653268)"
      ]
     },
     "execution_count": 115,
     "metadata": {},
     "output_type": "execute_result"
    }
   ],
   "source": [
    "lasso=grid_search.best_estimator_\n",
    "lasso.fit(x_train,y_train)"
   ]
  },
  {
   "cell_type": "code",
   "execution_count": 116,
   "id": "8404250a",
   "metadata": {},
   "outputs": [
    {
     "data": {
      "text/plain": [
       "[('Amount.Requested', 0.00016148741790364033),\n",
       " ('Debt.To.Income.Ratio', -0.00391373223008555),\n",
       " ('Monthly.Income', -4.1969832983981255e-05),\n",
       " ('Open.CREDIT.Lines', -0.03056406263870382),\n",
       " ('Revolving.CREDIT.Balance', -2.192096219210904e-06),\n",
       " ('Inquiries.in.the.Last.6.Months', 0.3184694451469217),\n",
       " ('Employment.Length', 0.01929824885411669),\n",
       " ('fico', -0.0870579385779751),\n",
       " ('State_CA', -0.0),\n",
       " ('State_NY', 0.0),\n",
       " ('State_TX', 0.41719463341984836),\n",
       " ('State_FL', 0.0),\n",
       " ('State_IL', -0.0),\n",
       " ('State_GA', -0.0),\n",
       " ('State_PA', -0.4908334647768798),\n",
       " ('State_NJ', -0.06960805758661913),\n",
       " ('State_VA', 0.0),\n",
       " ('State_MA', -0.0),\n",
       " ('State_OH', -0.0),\n",
       " ('State_MD', 0.0),\n",
       " ('State_NC', -0.0),\n",
       " ('State_CO', 0.0),\n",
       " ('Home.Ownership_MORTGAGE', -0.2923210900760527),\n",
       " ('Home.Ownership_RENT', -0.0),\n",
       " ('Loan.Length_36 months', -3.106721650319979),\n",
       " ('Loan.Purpose_debt_consolidation', -0.23481797092212514),\n",
       " ('Loan.Purpose_credit_card', -0.2968946024411189),\n",
       " ('Loan.Purpose_other', 0.4360595666878573),\n",
       " ('Loan.Purpose_home_improvement', -0.09508269946781328),\n",
       " ('Loan.Purpose_major_purchase', -0.0)]"
      ]
     },
     "execution_count": 116,
     "metadata": {},
     "output_type": "execute_result"
    }
   ],
   "source": [
    "list(zip(x_train.columns,lasso.coef_))"
   ]
  },
  {
   "cell_type": "markdown",
   "id": "b057505d",
   "metadata": {},
   "source": [
    "\n",
    "# Decision Treewith Randomized Search CV"
   ]
  },
  {
   "cell_type": "code",
   "execution_count": 137,
   "id": "79577cdb",
   "metadata": {},
   "outputs": [],
   "source": [
    "from sklearn.model_selection import RandomizedSearchCV"
   ]
  },
  {
   "cell_type": "code",
   "execution_count": 138,
   "id": "fdd85550",
   "metadata": {},
   "outputs": [],
   "source": [
    "from sklearn.tree import DecisionTreeRegressor"
   ]
  },
  {
   "cell_type": "code",
   "execution_count": 170,
   "id": "54875e91",
   "metadata": {},
   "outputs": [],
   "source": [
    "# RandomSearchCV/GridSearchCV accept parameters values as dictionaries.\n",
    "# In example given below we have constructed dictionary for different parameter values that we want to\n",
    "# try for decision tree model\n",
    "\n",
    "params={\"splitter\":[\"best\",\"random\"],\n",
    "            \"max_depth\" : [1,3,5,7,9,11,12],\n",
    "           \"min_samples_leaf\":[1,2,3,4,5,6,7,8,9,10],\n",
    "           \"min_weight_fraction_leaf\":[0.1,0.2,0.3,0.4,0.5,0.6,0.7,0.8,0.9],\n",
    "           \"max_features\":[\"auto\",\"log2\",\"sqrt\",None],\n",
    "           \"max_leaf_nodes\":[None,10,20,30,40,50,60,70,80,90] }\n"
   ]
  },
  {
   "cell_type": "code",
   "execution_count": 172,
   "id": "90e00e08",
   "metadata": {},
   "outputs": [],
   "source": [
    "clf=DecisionTreeRegressor(random_state = 0)"
   ]
  },
  {
   "cell_type": "code",
   "execution_count": 173,
   "id": "bf8fc76b",
   "metadata": {},
   "outputs": [],
   "source": [
    "random_search=RandomizedSearchCV(clf, cv=10, param_distributions=params,  scoring='neg_mean_absolute_error',n_iter=10, n_jobs=-1,verbose=True)"
   ]
  },
  {
   "cell_type": "code",
   "execution_count": 174,
   "id": "182aa6a8",
   "metadata": {},
   "outputs": [
    {
     "name": "stdout",
     "output_type": "stream",
     "text": [
      "Fitting 10 folds for each of 10 candidates, totalling 100 fits\n"
     ]
    },
    {
     "data": {
      "text/plain": [
       "RandomizedSearchCV(cv=10, estimator=DecisionTreeRegressor(random_state=0),\n",
       "                   n_jobs=-1,\n",
       "                   param_distributions={'max_depth': [1, 3, 5, 7, 9, 11, 12],\n",
       "                                        'max_features': ['auto', 'log2', 'sqrt',\n",
       "                                                         None],\n",
       "                                        'max_leaf_nodes': [None, 10, 20, 30, 40,\n",
       "                                                           50, 60, 70, 80, 90],\n",
       "                                        'min_samples_leaf': [1, 2, 3, 4, 5, 6,\n",
       "                                                             7, 8, 9, 10],\n",
       "                                        'min_weight_fraction_leaf': [0.1, 0.2,\n",
       "                                                                     0.3, 0.4,\n",
       "                                                                     0.5, 0.6,\n",
       "                                                                     0.7, 0.8,\n",
       "                                                                     0.9],\n",
       "                                        'splitter': ['best', 'random']},\n",
       "                   scoring='neg_mean_absolute_error', verbose=True)"
      ]
     },
     "execution_count": 174,
     "metadata": {},
     "output_type": "execute_result"
    }
   ],
   "source": [
    "random_search.fit(x_train,y_train)"
   ]
  },
  {
   "cell_type": "code",
   "execution_count": 175,
   "id": "1cbd6c4a",
   "metadata": {},
   "outputs": [
    {
     "data": {
      "text/plain": [
       "DecisionTreeRegressor(max_depth=11, max_features='auto', max_leaf_nodes=60,\n",
       "                      min_samples_leaf=5, min_weight_fraction_leaf=0.1,\n",
       "                      random_state=0, splitter='random')"
      ]
     },
     "execution_count": 175,
     "metadata": {},
     "output_type": "execute_result"
    }
   ],
   "source": [
    "random_search.best_estimator_"
   ]
  },
  {
   "cell_type": "code",
   "execution_count": 176,
   "id": "4af74d94",
   "metadata": {},
   "outputs": [
    {
     "name": "stdout",
     "output_type": "stream",
     "text": [
      "Model with rank: 1\n",
      "Mean validation score: -3.05762 (std: 0.18385)\n",
      "Parameters: {'splitter': 'random', 'min_weight_fraction_leaf': 0.1, 'min_samples_leaf': 5, 'max_leaf_nodes': 60, 'max_features': 'auto', 'max_depth': 11}\n",
      "\n",
      "Model with rank: 2\n",
      "Mean validation score: -3.33130 (std: 0.16492)\n",
      "Parameters: {'splitter': 'random', 'min_weight_fraction_leaf': 0.3, 'min_samples_leaf': 8, 'max_leaf_nodes': 10, 'max_features': None, 'max_depth': 12}\n",
      "\n",
      "Model with rank: 3\n",
      "Mean validation score: -3.34263 (std: 0.13876)\n",
      "Parameters: {'splitter': 'random', 'min_weight_fraction_leaf': 0.4, 'min_samples_leaf': 10, 'max_leaf_nodes': 40, 'max_features': None, 'max_depth': 7}\n",
      "\n",
      "Model with rank: 4\n",
      "Mean validation score: -3.38657 (std: 0.16127)\n",
      "Parameters: {'splitter': 'random', 'min_weight_fraction_leaf': 0.5, 'min_samples_leaf': 4, 'max_leaf_nodes': 80, 'max_features': 'auto', 'max_depth': 1}\n",
      "\n",
      "Model with rank: 5\n",
      "Mean validation score: nan (std: nan)\n",
      "Parameters: {'splitter': 'best', 'min_weight_fraction_leaf': 0.9, 'min_samples_leaf': 4, 'max_leaf_nodes': 70, 'max_features': 'log2', 'max_depth': 11}\n",
      "\n"
     ]
    }
   ],
   "source": [
    "report(random_search.cv_results_,5)"
   ]
  },
  {
   "cell_type": "markdown",
   "id": "20af496d",
   "metadata": {},
   "source": [
    "# Gradient Boost"
   ]
  },
  {
   "cell_type": "code",
   "execution_count": 177,
   "id": "d93ad219",
   "metadata": {},
   "outputs": [],
   "source": [
    "from sklearn.ensemble import GradientBoostingRegressor\n",
    "from sklearn.model_selection import RandomizedSearchCV\n"
   ]
  },
  {
   "cell_type": "code",
   "execution_count": 178,
   "id": "20d9b62d",
   "metadata": {},
   "outputs": [],
   "source": [
    "gbm_params={'n_estimators':[50,100,200],\n",
    " 'learning_rate': [0.01,.05,0.1,0.4,0.8,1],\n",
    " 'max_depth':[1,2,3,4,5,6],\n",
    " 'subsample':[0.5,0.8,1],\n",
    " 'max_features':[5,10,15,20,28]\n",
    "           }"
   ]
  },
  {
   "cell_type": "code",
   "execution_count": 179,
   "id": "62a51ca8",
   "metadata": {},
   "outputs": [],
   "source": [
    "modelGB=GradientBoostingRegressor()\n",
    "random_search=RandomizedSearchCV(modelGB,scoring='neg_mean_absolute_error',\n",
    "                                 param_distributions=gbm_params,cv=10,n_iter=10, n_jobs=-1,verbose=False)\n"
   ]
  },
  {
   "cell_type": "code",
   "execution_count": 181,
   "id": "8044b379",
   "metadata": {},
   "outputs": [
    {
     "data": {
      "text/plain": [
       "RandomizedSearchCV(cv=10, estimator=GradientBoostingRegressor(), n_jobs=-1,\n",
       "                   param_distributions={'learning_rate': [0.01, 0.05, 0.1, 0.4,\n",
       "                                                          0.8, 1],\n",
       "                                        'max_depth': [1, 2, 3, 4, 5, 6],\n",
       "                                        'max_features': [5, 10, 15, 20, 28],\n",
       "                                        'n_estimators': [50, 100, 200],\n",
       "                                        'subsample': [0.5, 0.8, 1]},\n",
       "                   scoring='neg_mean_absolute_error', verbose=False)"
      ]
     },
     "execution_count": 181,
     "metadata": {},
     "output_type": "execute_result"
    }
   ],
   "source": [
    "random_search.fit(x_train,y_train)"
   ]
  },
  {
   "cell_type": "code",
   "execution_count": 182,
   "id": "b5c319bf",
   "metadata": {},
   "outputs": [
    {
     "name": "stdout",
     "output_type": "stream",
     "text": [
      "Model with rank: 1\n",
      "Mean validation score: -1.33933 (std: 0.06035)\n",
      "Parameters: {'subsample': 0.5, 'n_estimators': 200, 'max_features': 20, 'max_depth': 5, 'learning_rate': 0.1}\n",
      "\n",
      "Model with rank: 2\n",
      "Mean validation score: -1.39358 (std: 0.05465)\n",
      "Parameters: {'subsample': 0.8, 'n_estimators': 100, 'max_features': 10, 'max_depth': 1, 'learning_rate': 0.8}\n",
      "\n",
      "Model with rank: 3\n",
      "Mean validation score: -1.43570 (std: 0.09526)\n",
      "Parameters: {'subsample': 1, 'n_estimators': 50, 'max_features': 28, 'max_depth': 5, 'learning_rate': 0.4}\n",
      "\n"
     ]
    }
   ],
   "source": [
    "report(random_search.cv_results_,3)"
   ]
  },
  {
   "cell_type": "markdown",
   "id": "ddf56d02",
   "metadata": {},
   "source": [
    "# XG Boost with parameter tuning"
   ]
  },
  {
   "cell_type": "code",
   "execution_count": 183,
   "id": "b7af8df7",
   "metadata": {},
   "outputs": [],
   "source": [
    "from sklearn.model_selection import GridSearchCV\n",
    "from xgboost.sklearn import XGBRegressor\n"
   ]
  },
  {
   "cell_type": "code",
   "execution_count": 188,
   "id": "650b195d",
   "metadata": {},
   "outputs": [],
   "source": [
    "xgb_params = { \"n_estimators\":[25,50,100,150,200],\n",
    "              \"gamma\":[0,2,5,8,10],\n",
    "               \"max_depth\": [2,3,4,5,6,7,8],\n",
    "               \"min_child_weight\":[0.5,1,2,5,10]\n",
    "}"
   ]
  },
  {
   "cell_type": "code",
   "execution_count": 189,
   "id": "5d83c28c",
   "metadata": {},
   "outputs": [],
   "source": [
    "xgb1=XGBRegressor(subsample=0.8,colsample_bylevel=0.8,colsample_bytree=0.8)\n",
    "grid_search=GridSearchCV(xgb1,cv=10,param_grid=xgb_params,scoring='neg_mean_absolute_error',verbose=False,n_jobs=-1)"
   ]
  },
  {
   "cell_type": "code",
   "execution_count": 190,
   "id": "17a4d45a",
   "metadata": {},
   "outputs": [
    {
     "data": {
      "text/plain": [
       "GridSearchCV(cv=10,\n",
       "             estimator=XGBRegressor(base_score=None, booster=None,\n",
       "                                    colsample_bylevel=0.8,\n",
       "                                    colsample_bynode=None, colsample_bytree=0.8,\n",
       "                                    enable_categorical=False, gamma=None,\n",
       "                                    gpu_id=None, importance_type=None,\n",
       "                                    interaction_constraints=None,\n",
       "                                    learning_rate=None, max_delta_step=None,\n",
       "                                    max_depth=None, min_child_weight=None,\n",
       "                                    missing=nan, monotone_constraints=None,\n",
       "                                    n_...\n",
       "                                    num_parallel_tree=None, predictor=None,\n",
       "                                    random_state=None, reg_alpha=None,\n",
       "                                    reg_lambda=None, scale_pos_weight=None,\n",
       "                                    subsample=0.8, tree_method=None,\n",
       "                                    validate_parameters=None, verbosity=None),\n",
       "             n_jobs=-1,\n",
       "             param_grid={'gamma': [0, 2, 5, 8, 10],\n",
       "                         'max_depth': [2, 3, 4, 5, 6, 7, 8],\n",
       "                         'min_child_weight': [0.5, 1, 2, 5, 10],\n",
       "                         'n_estimators': [25, 50, 100, 150, 200]},\n",
       "             scoring='neg_mean_absolute_error', verbose=False)"
      ]
     },
     "execution_count": 190,
     "metadata": {},
     "output_type": "execute_result"
    }
   ],
   "source": [
    "grid_search.fit(x_train,y_train)"
   ]
  },
  {
   "cell_type": "code",
   "execution_count": 200,
   "id": "4092e46e",
   "metadata": {},
   "outputs": [
    {
     "data": {
      "text/plain": [
       "XGBRegressor(base_score=0.5, booster='gbtree', colsample_bylevel=0.8,\n",
       "             colsample_bynode=1, colsample_bytree=0.8, enable_categorical=False,\n",
       "             gamma=5, gpu_id=-1, importance_type=None,\n",
       "             interaction_constraints='', learning_rate=0.300000012,\n",
       "             max_delta_step=0, max_depth=4, min_child_weight=2, missing=nan,\n",
       "             monotone_constraints='()', n_estimators=25, n_jobs=6,\n",
       "             num_parallel_tree=1, predictor='auto', random_state=0, reg_alpha=0,\n",
       "             reg_lambda=1, scale_pos_weight=1, subsample=0.8,\n",
       "             tree_method='exact', validate_parameters=1, verbosity=None)"
      ]
     },
     "execution_count": 200,
     "metadata": {},
     "output_type": "execute_result"
    }
   ],
   "source": [
    "grid_search.best_estimator_"
   ]
  },
  {
   "cell_type": "code",
   "execution_count": 187,
   "id": "c4a0b75a",
   "metadata": {},
   "outputs": [
    {
     "name": "stdout",
     "output_type": "stream",
     "text": [
      "Model with rank: 1\n",
      "Mean validation score: -1.34584 (std: 0.08157)\n",
      "Parameters: {'n_estimators': 25}\n",
      "\n",
      "Model with rank: 2\n",
      "Mean validation score: -1.37796 (std: 0.09421)\n",
      "Parameters: {'n_estimators': 50}\n",
      "\n",
      "Model with rank: 3\n",
      "Mean validation score: -1.41636 (std: 0.09517)\n",
      "Parameters: {'n_estimators': 100}\n",
      "\n"
     ]
    }
   ],
   "source": [
    "report(grid_search.cv_results_,3)"
   ]
  },
  {
   "cell_type": "code",
   "execution_count": 191,
   "id": "da221d87",
   "metadata": {},
   "outputs": [],
   "source": [
    "xgb_params={\n",
    " 'subsample':[i/10 for i in range(5,11)],\n",
    " 'colsample_bytree':[i/10 for i in range(5,11)],\n",
    " 'colsample_bylevel':[i/10 for i in range(5,11)]\n",
    "}"
   ]
  },
  {
   "cell_type": "code",
   "execution_count": 198,
   "id": "6bdbb57c",
   "metadata": {},
   "outputs": [
    {
     "name": "stdout",
     "output_type": "stream",
     "text": [
      "Model with rank: 1\n",
      "Mean validation score: -1.30246 (std: 0.07150)\n",
      "Parameters: {'subsample': 0.9, 'colsample_bytree': 0.8, 'colsample_bylevel': 0.8}\n",
      "\n",
      "Model with rank: 2\n",
      "Mean validation score: -1.30513 (std: 0.07153)\n",
      "Parameters: {'subsample': 0.8, 'colsample_bytree': 0.7, 'colsample_bylevel': 0.8}\n",
      "\n",
      "Model with rank: 3\n",
      "Mean validation score: -1.30793 (std: 0.05549)\n",
      "Parameters: {'subsample': 0.7, 'colsample_bytree': 1.0, 'colsample_bylevel': 0.9}\n",
      "\n"
     ]
    }
   ],
   "source": [
    "xgb3=XGBRegressor(learning_rate=0.300000012,n_estimators=25,min_child_weight=2,gamma=5,max_depth=4)\n",
    "random_search=RandomizedSearchCV(xgb3,param_distributions=xgb_params,cv=10, n_iter=20,scoring='neg_mean_absolute_error',\n",
    "                                  n_jobs=-1,verbose=False)\n",
    "random_search.fit(x_train,y_train)\n",
    "report(random_search.cv_results_,3)"
   ]
  },
  {
   "cell_type": "code",
   "execution_count": 201,
   "id": "af266171",
   "metadata": {},
   "outputs": [
    {
     "data": {
      "text/plain": [
       "XGBRegressor(base_score=0.5, booster='gbtree', colsample_bylevel=0.8,\n",
       "             colsample_bynode=1, colsample_bytree=0.8, enable_categorical=False,\n",
       "             gamma=5, gpu_id=-1, importance_type=None,\n",
       "             interaction_constraints='', learning_rate=0.300000012,\n",
       "             max_delta_step=0, max_depth=4, min_child_weight=2, missing=nan,\n",
       "             monotone_constraints='()', n_estimators=25, n_jobs=6,\n",
       "             num_parallel_tree=1, predictor='auto', random_state=0, reg_alpha=0,\n",
       "             reg_lambda=1, scale_pos_weight=1, subsample=0.9,\n",
       "             tree_method='exact', validate_parameters=1, verbosity=None)"
      ]
     },
     "execution_count": 201,
     "metadata": {},
     "output_type": "execute_result"
    }
   ],
   "source": [
    "random_search.best_estimator_"
   ]
  },
  {
   "cell_type": "code",
   "execution_count": 199,
   "id": "08ed4fe6",
   "metadata": {},
   "outputs": [],
   "source": [
    "xgb_params={\n",
    "     'reg_lambda':[i/10 for i in range(0,50)],\n",
    "     'reg_alpha':[i/10 for i in range(0,50)]\n",
    "}"
   ]
  },
  {
   "cell_type": "code",
   "execution_count": 203,
   "id": "6e1622a9",
   "metadata": {},
   "outputs": [
    {
     "name": "stdout",
     "output_type": "stream",
     "text": [
      "Model with rank: 1\n",
      "Mean validation score: -1.28488 (std: 0.05015)\n",
      "Parameters: {'reg_lambda': 1.1, 'reg_alpha': 3.8}\n",
      "\n",
      "Model with rank: 2\n",
      "Mean validation score: -1.28977 (std: 0.05323)\n",
      "Parameters: {'reg_lambda': 2.1, 'reg_alpha': 2.4}\n",
      "\n",
      "Model with rank: 3\n",
      "Mean validation score: -1.29011 (std: 0.03941)\n",
      "Parameters: {'reg_lambda': 1.3, 'reg_alpha': 3.8}\n",
      "\n"
     ]
    }
   ],
   "source": [
    "xgb4=XGBRegressor(learning_rate=0.300000012,n_estimators=25,min_child_weight=2, gamma=5,max_depth=4, colsample_bylevel= 0.8,\n",
    "                   colsample_bytree= 0.8, subsample= 0.9)\n",
    "random_search=RandomizedSearchCV(xgb4,param_distributions=xgb_params,cv=10, n_iter=20,scoring='neg_mean_absolute_error',\n",
    "                                  n_jobs=-1,verbose=False)\n",
    "random_search.fit(x_train,y_train)\n",
    "report(random_search.cv_results_,3)\n"
   ]
  },
  {
   "cell_type": "code",
   "execution_count": 208,
   "id": "abd705e3",
   "metadata": {},
   "outputs": [
    {
     "data": {
      "text/plain": [
       "XGBRegressor(base_score=0.5, booster='gbtree', colsample_bylevel=0.8,\n",
       "             colsample_bynode=1, colsample_bytree=0.8, enable_categorical=False,\n",
       "             gamma=5, gpu_id=-1, importance_type=None,\n",
       "             interaction_constraints='', learning_rate=0.300000012,\n",
       "             max_delta_step=0, max_depth=4, min_child_weight=2, missing=nan,\n",
       "             monotone_constraints='()', n_estimators=25, n_jobs=6,\n",
       "             num_parallel_tree=1, predictor='auto', random_state=0,\n",
       "             reg_alpha=3.8, reg_lambda=1.1, scale_pos_weight=1, subsample=0.9,\n",
       "             tree_method='exact', validate_parameters=1, verbosity=None)"
      ]
     },
     "execution_count": 208,
     "metadata": {},
     "output_type": "execute_result"
    }
   ],
   "source": [
    "random_search.best_estimator_"
   ]
  },
  {
   "cell_type": "code",
   "execution_count": 212,
   "id": "a2e9cfd0",
   "metadata": {},
   "outputs": [],
   "source": [
    "xgb5=XGBRegressor(learning_rate=0.300000012,n_estimators=25,min_child_weight=2,\n",
    "                   gamma=5,max_depth=4, colsample_bylevel= 0.8,\n",
    "                   colsample_bytree= 0.8, subsample= 0.9,\n",
    "                   reg_lambda=1.1,reg_alpha=3.8)"
   ]
  },
  {
   "cell_type": "code",
   "execution_count": 213,
   "id": "92c166c2",
   "metadata": {},
   "outputs": [],
   "source": [
    "from sklearn.model_selection import cross_val_score\n",
    "scores=-cross_val_score(xgb4,x_train,y_train,scoring='neg_mean_absolute_error',verbose=False,n_jobs=-1,cv=10)"
   ]
  },
  {
   "cell_type": "code",
   "execution_count": 214,
   "id": "467d2d05",
   "metadata": {},
   "outputs": [
    {
     "data": {
      "text/plain": [
       "1.3024568256789988"
      ]
     },
     "execution_count": 214,
     "metadata": {},
     "output_type": "execute_result"
    }
   ],
   "source": [
    "np.mean(scores)"
   ]
  },
  {
   "cell_type": "code",
   "execution_count": 217,
   "id": "affb191f",
   "metadata": {},
   "outputs": [
    {
     "data": {
      "text/plain": [
       "1.34216091299057"
      ]
     },
     "execution_count": 217,
     "metadata": {},
     "output_type": "execute_result"
    }
   ],
   "source": [
    "xgb5.fit(x_train,y_train)\n",
    "predicted_values=xgb5.predict(x_test)\n",
    "mean_absolute_error(predicted_values,y_test)"
   ]
  },
  {
   "cell_type": "code",
   "execution_count": 218,
   "id": "1bb14a01",
   "metadata": {},
   "outputs": [
    {
     "data": {
      "text/plain": [
       "1.33129302406311"
      ]
     },
     "execution_count": 218,
     "metadata": {},
     "output_type": "execute_result"
    }
   ],
   "source": [
    "random_search.fit(x_train,y_train)\n",
    "predicted_values=random_search.predict(x_test)\n",
    "mean_absolute_error(predicted_values,y_test)"
   ]
  },
  {
   "cell_type": "code",
   "execution_count": 219,
   "id": "5b970835",
   "metadata": {},
   "outputs": [
    {
     "data": {
      "text/plain": [
       "1.644737283350567"
      ]
     },
     "execution_count": 219,
     "metadata": {},
     "output_type": "execute_result"
    }
   ],
   "source": [
    "lasso.fit(x_train,y_train)\n",
    "predicted_values=lasso.predict(x_test)\n",
    "mean_absolute_error(predicted_values,y_test)"
   ]
  },
  {
   "cell_type": "code",
   "execution_count": null,
   "id": "cc00bed3",
   "metadata": {},
   "outputs": [],
   "source": [
    "lasso.fit(x_train,y_train)\n",
    "predicted_values=lasso.predict(x_test)\n",
    "mean_absolute_error(predicted_values,y_test)"
   ]
  }
 ],
 "metadata": {
  "kernelspec": {
   "display_name": "Python 3 (ipykernel)",
   "language": "python",
   "name": "python3"
  },
  "language_info": {
   "codemirror_mode": {
    "name": "ipython",
    "version": 3
   },
   "file_extension": ".py",
   "mimetype": "text/x-python",
   "name": "python",
   "nbconvert_exporter": "python",
   "pygments_lexer": "ipython3",
   "version": "3.9.7"
  }
 },
 "nbformat": 4,
 "nbformat_minor": 5
}
